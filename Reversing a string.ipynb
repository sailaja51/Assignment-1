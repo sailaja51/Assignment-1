{
 "cells": [
  {
   "cell_type": "code",
   "execution_count": 5,
   "id": "7a59dbc5",
   "metadata": {},
   "outputs": [
    {
     "name": "stdout",
     "output_type": "stream",
     "text": [
      " input a word to reverse :Edyoda\n",
      "a d o y d E \n",
      "\n"
     ]
    }
   ],
   "source": [
    "word = input (\" input a word to reverse :\")\n",
    "for char in range (len(word)-1,-1,-1):\n",
    "    print(word[char],end = \" \")\n",
    "print(\"\\n\")"
   ]
  },
  {
   "cell_type": "code",
   "execution_count": null,
   "id": "f3fa4945",
   "metadata": {},
   "outputs": [],
   "source": []
  }
 ],
 "metadata": {
  "kernelspec": {
   "display_name": "Python 3 (ipykernel)",
   "language": "python",
   "name": "python3"
  },
  "language_info": {
   "codemirror_mode": {
    "name": "ipython",
    "version": 3
   },
   "file_extension": ".py",
   "mimetype": "text/x-python",
   "name": "python",
   "nbconvert_exporter": "python",
   "pygments_lexer": "ipython3",
   "version": "3.9.5"
  }
 },
 "nbformat": 4,
 "nbformat_minor": 5
}
