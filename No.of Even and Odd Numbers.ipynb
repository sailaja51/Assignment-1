{
 "cells": [
  {
   "cell_type": "code",
   "execution_count": 7,
   "id": "588a4550",
   "metadata": {},
   "outputs": [
    {
     "name": "stdout",
     "output_type": "stream",
     "text": [
      "Number of even numbers : 4\n",
      "Number of Odd numbers : 5\n"
     ]
    }
   ],
   "source": [
    "num=(1,2,3,4,5,6,7,8,9,) # Declaring the tuple\n",
    "Odd = 0\n",
    "Even = 0\n",
    "for x in num:\n",
    "    if not x % 2:\n",
    "        Even+=1\n",
    "    else:\n",
    "            Odd+=1\n",
    "print(\"Number of even numbers :\", Even)\n",
    "print(\"Number of Odd numbers :\", Odd)"
   ]
  },
  {
   "cell_type": "code",
   "execution_count": null,
   "id": "40a0f591",
   "metadata": {},
   "outputs": [],
   "source": []
  }
 ],
 "metadata": {
  "kernelspec": {
   "display_name": "Python 3 (ipykernel)",
   "language": "python",
   "name": "python3"
  },
  "language_info": {
   "codemirror_mode": {
    "name": "ipython",
    "version": 3
   },
   "file_extension": ".py",
   "mimetype": "text/x-python",
   "name": "python",
   "nbconvert_exporter": "python",
   "pygments_lexer": "ipython3",
   "version": "3.9.5"
  }
 },
 "nbformat": 4,
 "nbformat_minor": 5
}
